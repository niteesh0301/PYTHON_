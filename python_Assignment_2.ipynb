{
  "nbformat": 4,
  "nbformat_minor": 0,
  "metadata": {
    "colab": {
      "provenance": []
    },
    "kernelspec": {
      "name": "python3",
      "display_name": "Python 3"
    },
    "language_info": {
      "name": "python"
    }
  },
  "cells": [
    {
      "cell_type": "code",
      "source": [
        "def is_palindrome(text):\n",
        "    # Remove spaces and convert to lowercase for uniformity\n",
        "    cleaned_text = text.replace(\" \", \"\").lower()\n",
        "    # Check if the cleaned text reads the same forwards and backwards\n",
        "    return cleaned_text == cleaned_text[::-1]\n",
        "\n",
        "def main():\n",
        "    # Ask the user for a text\n",
        "    user_input = input(\"please enter requirement: \")\n",
        "\n",
        "    # Check if the entered text is a palindrome\n",
        "    if is_palindrome(user_input):\n",
        "        print(f'\"{user_input}\" is a palindrome.')\n",
        "    else:\n",
        "        print(f'\"{user_input}\" is not a palindrome.')\n",
        "\n",
        "# Call the main function to run the program\n",
        "if __name__ == \"__main__\":\n",
        "    main()\n"
      ],
      "metadata": {
        "colab": {
          "base_uri": "https://localhost:8080/"
        },
        "id": "zHNg1YAwLg7K",
        "outputId": "1bcaee5d-b512-4ee3-cc57-5556d16f776b"
      },
      "execution_count": 8,
      "outputs": [
        {
          "output_type": "stream",
          "name": "stdout",
          "text": [
            "please enter requirement: kiaaik\n",
            "\"kiaaik\" is a palindrome.\n"
          ]
        }
      ]
    },
    {
      "cell_type": "code",
      "source": [
        "def count_vowels(text):\n",
        "    # Define the vowels\n",
        "    vowels = \"aeiouAEIOU\"\n",
        "\n",
        "    # Dictionary to store vowel counts\n",
        "    vowel_count = {vowel: 0 for vowel in vowels}\n",
        "\n",
        "    # Count each vowel in the text\n",
        "    for char in text:\n",
        "        if char in vowels:\n",
        "            vowel_count[char] += 1\n",
        "\n",
        "    # Calculate the total number of vowels\n",
        "    total_vowels = sum(vowel_count.values())\n",
        "\n",
        "    # Print the results\n",
        "    print(f\"The number of occurrences of vowels is: {total_vowels}\")\n",
        "    for vowel in vowels:\n",
        "        if vowel_count[vowel] > 0:\n",
        "            print(f\"The number of occurrences of {vowel} is: {vowel_count[vowel]}\")\n",
        "\n",
        "def main():\n",
        "    # Ask the user for a string\n",
        "    user_input = input(\"Please enter a string: \")\n",
        "\n",
        "    # Count and print the occurrences of vowels\n",
        "    count_vowels(user_input)\n",
        "\n",
        "# Call the main function to run the program\n",
        "if __name__ == \"__main__\":\n",
        "    main()\n"
      ],
      "metadata": {
        "colab": {
          "base_uri": "https://localhost:8080/"
        },
        "id": "607CdrjgL-r-",
        "outputId": "80953c9d-8d8b-45cb-e66f-89592d9ff729"
      },
      "execution_count": 3,
      "outputs": [
        {
          "output_type": "stream",
          "name": "stdout",
          "text": [
            "Please enter a string: NiteeshKumarSaiChowdary\n",
            "The number of occurrences of vowels is: 9\n",
            "The number of occurrences of a is: 3\n",
            "The number of occurrences of e is: 2\n",
            "The number of occurrences of i is: 2\n",
            "The number of occurrences of o is: 1\n",
            "The number of occurrences of u is: 1\n"
          ]
        }
      ]
    },
    {
      "cell_type": "code",
      "source": [
        "# Create a dictionary with grocery items and their prices\n",
        "grocery_prices = {\n",
        "    'Apple': 0.89,\n",
        "    'Banana': 0.39,\n",
        "    'Bread': 2.50,\n",
        "    'Chocolate': 1.50\n",
        "}\n",
        "\n",
        "# Print the dictionary to verify\n",
        "print(grocery_prices)\n"
      ],
      "metadata": {
        "colab": {
          "base_uri": "https://localhost:8080/"
        },
        "id": "o9P11JLiMsmk",
        "outputId": "a707063a-ee66-4651-9f76-5fea2e1446f6"
      },
      "execution_count": 4,
      "outputs": [
        {
          "output_type": "stream",
          "name": "stdout",
          "text": [
            "{'Apple': 0.89, 'Banana': 0.39, 'Bread': 2.5, 'Chocolate': 1.5}\n"
          ]
        }
      ]
    },
    {
      "cell_type": "code",
      "source": [
        "# Create a dictionary with grocery items and their prices\n",
        "grocery_prices = {\n",
        "    'Apple': 0.89,\n",
        "    'Banana': 0.39,\n",
        "    'Bread': 2.50,\n",
        "    'Chocolate': 1.50\n",
        "}\n",
        "\n",
        "def print_receipt(purchased_items):\n",
        "    total = 0\n",
        "    print(\"\\nReceipt:\")\n",
        "    print(\"-\" * 30)\n",
        "    for item, quantity in purchased_items.items():\n",
        "        if quantity > 0:\n",
        "            cost = grocery_prices[item] * quantity\n",
        "            total += cost\n",
        "            print(f\"{item:<10} x {quantity:<3} = ${cost:.2f}\")\n",
        "    print(\"-\" * 30)\n",
        "    print(f\"Total: ${total:.2f}\")\n",
        "    print(\"-\" * 30)\n",
        "\n",
        "def main():\n",
        "    # Dictionary to store the quantity of each item purchased\n",
        "    purchased_items = {\n",
        "        'Apple': 0,\n",
        "        'Banana': 0,\n",
        "        'Bread': 0,\n",
        "        'Chocolate': 0\n",
        "    }\n",
        "\n",
        "    # Take the cashier's input for each item\n",
        "    for item in purchased_items:\n",
        "        quantity = int(input(f\"Enter the number of {item}s purchased: \"))\n",
        "        purchased_items[item] = quantity\n",
        "\n",
        "    # Print the receipt\n",
        "    print_receipt(purchased_items)\n",
        "\n",
        "# Call the main function to run the program\n",
        "if __name__ == \"__main__\":\n",
        "    main()\n"
      ],
      "metadata": {
        "colab": {
          "base_uri": "https://localhost:8080/"
        },
        "id": "56KWsYLaNIsC",
        "outputId": "d497abb2-4bbd-49a9-c06a-9d9869437ea0"
      },
      "execution_count": 5,
      "outputs": [
        {
          "output_type": "stream",
          "name": "stdout",
          "text": [
            "Enter the number of Apples purchased: 6\n",
            "Enter the number of Bananas purchased: 8\n",
            "Enter the number of Breads purchased: 9\n",
            "Enter the number of Chocolates purchased: 10\n",
            "\n",
            "Receipt:\n",
            "------------------------------\n",
            "Apple      x 6   = $5.34\n",
            "Banana     x 8   = $3.12\n",
            "Bread      x 9   = $22.50\n",
            "Chocolate  x 10  = $15.00\n",
            "------------------------------\n",
            "Total: $45.96\n",
            "------------------------------\n"
          ]
        }
      ]
    },
    {
      "cell_type": "code",
      "source": [
        "def find_common_and_unique(list1, list2):\n",
        "    # Convert lists to sets to find unique elements\n",
        "    set1 = set(list1)\n",
        "    set2 = set(list2)\n",
        "\n",
        "    # Find common elements\n",
        "    common_elements = set1.intersection(set2)\n",
        "\n",
        "    # Find unique elements in each list\n",
        "    unique_in_list1 = set1 - set2\n",
        "    unique_in_list2 = set2 - set1\n",
        "\n",
        "    return common_elements, unique_in_list1, unique_in_list2\n",
        "\n",
        "def main():\n",
        "    # Example input\n",
        "    list1 = [1, 2, 2, 3, 4, 5]\n",
        "    list2 = [3, 4, 4, 5, 6, 7]\n",
        "\n",
        "    # Find common and unique elements\n",
        "    common_elements, unique_in_list1, unique_in_list2 = find_common_and_unique(list1, list2)\n",
        "\n",
        "    # Print the results\n",
        "    print(f\"Common elements: {sorted(common_elements)}\")\n",
        "    print(f\"Unique elements in list1: {sorted(unique_in_list1)}\")\n",
        "    print(f\"Unique elements in list2: {sorted(unique_in_list2)}\")\n",
        "\n",
        "if __name__ == \"__main__\":\n",
        "    main()\n"
      ],
      "metadata": {
        "colab": {
          "base_uri": "https://localhost:8080/"
        },
        "id": "as-jvdfMNjFi",
        "outputId": "0aaab646-64b4-460e-a815-e5ab6605e0f1"
      },
      "execution_count": 6,
      "outputs": [
        {
          "output_type": "stream",
          "name": "stdout",
          "text": [
            "Common elements: [3, 4, 5]\n",
            "Unique elements in list1: [1, 2]\n",
            "Unique elements in list2: [6, 7]\n"
          ]
        }
      ]
    },
    {
      "cell_type": "code",
      "source": [
        "import heapq\n",
        "\n",
        "def merge_k_sorted_lists(lists):\n",
        "    # Create a min-heap\n",
        "    min_heap = []\n",
        "\n",
        "    # Step 1: Initialize the heap with the first element of each list along with the list index and element index\n",
        "    for i, lst in enumerate(lists):\n",
        "        if lst:  # Check if the list is non-empty\n",
        "            heapq.heappush(min_heap, (lst[0], i, 0))\n",
        "\n",
        "    # Step 2: Extract the smallest element from the heap and add it to the result list\n",
        "    merged_list = []\n",
        "    while min_heap:\n",
        "        value, list_index, element_index = heapq.heappop(min_heap)\n",
        "        merged_list.append(value)\n",
        "\n",
        "        # If there is a next element in the same list, add it to the heap\n",
        "        if element_index + 1 < len(lists[list_index]):\n",
        "            next_value = lists[list_index][element_index + 1]\n",
        "            heapq.heappush(min_heap, (next_value, list_index, element_index + 1))\n",
        "\n",
        "    return merged_list\n",
        "\n",
        "def main():\n",
        "    # Example input: k sorted lists\n",
        "    lists = [\n",
        "        [1, 4, 5],\n",
        "        [1, 3, 4],\n",
        "        [2, 6]\n",
        "    ]\n",
        "\n",
        "    # Merge the k sorted lists\n",
        "    merged_list = merge_k_sorted_lists(lists)\n",
        "\n",
        "    # Print the merged sorted list\n",
        "    print(\"Merged sorted list:\", merged_list)\n",
        "\n",
        "if __name__ == \"__main__\":\n",
        "    main()\n"
      ],
      "metadata": {
        "colab": {
          "base_uri": "https://localhost:8080/"
        },
        "id": "LAPiqA_MODvv",
        "outputId": "590a89b8-acee-4459-db44-2b5451472d96"
      },
      "execution_count": 7,
      "outputs": [
        {
          "output_type": "stream",
          "name": "stdout",
          "text": [
            "Merged sorted list: [1, 1, 2, 3, 4, 4, 5, 6]\n"
          ]
        }
      ]
    }
  ]
}